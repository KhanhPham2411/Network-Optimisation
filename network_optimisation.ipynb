{
  "nbformat": 4,
  "nbformat_minor": 0,
  "metadata": {
    "colab": {
      "name": "Untitled23.ipynb",
      "provenance": [],
      "authorship_tag": "ABX9TyPA1chHqLepAsG2CW1D/USQ",
      "include_colab_link": true
    },
    "kernelspec": {
      "name": "python3",
      "display_name": "Python 3"
    },
    "accelerator": "GPU"
  },
  "cells": [
    {
      "cell_type": "markdown",
      "metadata": {
        "id": "view-in-github",
        "colab_type": "text"
      },
      "source": [
        "<a href=\"https://colab.research.google.com/github/KhanhPham2411/Network-Optimisation/blob/master/network_optimisation.ipynb\" target=\"_parent\"><img src=\"https://colab.research.google.com/assets/colab-badge.svg\" alt=\"Open In Colab\"/></a>"
      ]
    },
    {
      "cell_type": "code",
      "metadata": {
        "id": "IMLSiX93jjwV",
        "colab_type": "code",
        "colab": {
          "base_uri": "https://localhost:8080/",
          "height": 34
        },
        "outputId": "e98d7a22-6a04-4ec8-b4d7-3825223299ad"
      },
      "source": [
        "import numpy as np\n",
        "import random\n",
        "from keras.models import Sequential\n",
        "from keras.layers import Dense, Activation\n",
        "from keras.datasets import mnist\n",
        "from keras.utils import to_categorical\n"
      ],
      "execution_count": 1,
      "outputs": [
        {
          "output_type": "stream",
          "text": [
            "Using TensorFlow backend.\n"
          ],
          "name": "stderr"
        }
      ]
    },
    {
      "cell_type": "code",
      "metadata": {
        "id": "BP3OORotjlT0",
        "colab_type": "code",
        "colab": {
          "base_uri": "https://localhost:8080/",
          "height": 50
        },
        "outputId": "449db8ba-bd23-462d-ead9-fd1cdb375fa4"
      },
      "source": [
        "\n",
        "(x_train, y_train), (x_test, y_test) = mnist.load_data()\n",
        "x_train = x_train.reshape(60000, 784).astype('float32')[:1000] / 255\n",
        "x_test = x_test.reshape(10000, 784).astype('float32')[:1000] / 255\n",
        "y_train = to_categorical(y_train, 10)[:1000]\n",
        "y_test = to_categorical(y_test, 10)[:1000]\n"
      ],
      "execution_count": 2,
      "outputs": [
        {
          "output_type": "stream",
          "text": [
            "Downloading data from https://s3.amazonaws.com/img-datasets/mnist.npz\n",
            "11493376/11490434 [==============================] - 2s 0us/step\n"
          ],
          "name": "stdout"
        }
      ]
    },
    {
      "cell_type": "code",
      "metadata": {
        "id": "Q1SJLQG-jmP8",
        "colab_type": "code",
        "colab": {}
      },
      "source": [
        "classes = 10\n",
        "batch_size = 64\n",
        "population = 20\n",
        "generations = 100\n",
        "threshold = 0.995"
      ],
      "execution_count": 3,
      "outputs": []
    },
    {
      "cell_type": "code",
      "metadata": {
        "id": "oxWoHCY5jqe0",
        "colab_type": "code",
        "colab": {}
      },
      "source": [
        "def serve_model(epochs, units1, act1, units2, act2, classes, act3, loss, opt, xtrain, ytrain, summary=False):\n",
        "    model = Sequential()\n",
        "    model.add(Dense(units1, input_shape=[784,]))\n",
        "    model.add(Activation(act1))\n",
        "    model.add(Dense(units2))\n",
        "    model.add(Activation(act2))\n",
        "    model.add(Dense(classes))\n",
        "    model.add(Activation(act3))\n",
        "    model.compile(loss=loss, optimizer=opt, metrics=['acc'])\n",
        "    if summary:\n",
        "        model.summary()\n",
        "\n",
        "    model.fit(xtrain, ytrain, batch_size=batch_size, epochs=epochs, verbose=0)\n",
        "\n",
        "    return model\n",
        "\n",
        "class Network():\n",
        "    def __init__(self):\n",
        "        self._epochs = np.random.randint(1, 15)\n",
        "\n",
        "        self._units1 = np.random.randint(1, 500)\n",
        "        self._units2 = np.random.randint(1, 500)\n",
        "\n",
        "        self._act1 = random.choice(['sigmoid', 'relu', 'softmax', 'tanh', 'elu', 'selu', 'linear'])\n",
        "        self._act2 = random.choice(['sigmoid', 'relu', 'softmax', 'tanh', 'elu', 'selu', 'linear'])\n",
        "        self._act3 = random.choice(['sigmoid', 'relu', 'softmax', 'tanh', 'elu', 'selu', 'linear'])\n",
        "\n",
        "        self._loss = random.choice([\n",
        "            'categorical_crossentropy',\n",
        "            'binary_crossentropy',\n",
        "            'mean_squared_error',\n",
        "            'mean_absolute_error',\n",
        "            'sparse_categorical_crossentropy'\n",
        "        ])\n",
        "        self._opt = random.choice(['sgd', 'rmsprop', 'adagrad', 'adadelta', 'adam', 'adamax', 'nadam'])\n",
        "\n",
        "        self._accuracy = 0\n",
        "\n",
        "    def init_hyperparams(self):\n",
        "        hyperparams = {\n",
        "            'epochs': self._epochs,\n",
        "            'units1': self._units1,\n",
        "            'act1': self._act1,\n",
        "            'units2': self._units2,\n",
        "            'act2': self._act2,\n",
        "            'act3': self._act3,\n",
        "            'loss': self._loss,\n",
        "            'optimizer': self._opt\n",
        "        }\n",
        "        return hyperparams\n",
        "\n",
        "def init_networks(population):\n",
        "    return [Network() for _ in range(population)]\n",
        "\n",
        "def fitness(networks):\n",
        "    for network in networks:\n",
        "        hyperparams = network.init_hyperparams()\n",
        "        epochs = hyperparams['epochs']\n",
        "        units1 = hyperparams['units1']\n",
        "        act1 = hyperparams['act1']\n",
        "        units2 = hyperparams['units2']\n",
        "        act2 = hyperparams['act2']\n",
        "        act3 = hyperparams['act3']\n",
        "        loss = hyperparams['loss']\n",
        "        opt = hyperparams['optimizer']\n",
        "\n",
        "        try:\n",
        "            model = serve_model(epochs, units1, act1, units2, act2, classes, act3, loss, opt, x_train, y_train)\n",
        "            accuracy = model.evaluate(x_test, y_test, verbose=0)[1]\n",
        "            network._accuracy = accuracy\n",
        "            print ('Accuracy: {}'.format(network._accuracy))\n",
        "        except:\n",
        "            network._accuracy = 0\n",
        "            print ('Build failed.')\n",
        "\n",
        "    return networks\n",
        "\n",
        "def selection(networks):\n",
        "    networks = sorted(networks, key=lambda network: network._accuracy, reverse=True)\n",
        "    networks = networks[:int(0.2 * len(networks))]\n",
        "\n",
        "    return networks\n",
        "\n",
        "def crossover(networks):\n",
        "    offspring = []\n",
        "    for _ in range(int((population - len(networks)) / 2)):\n",
        "        parent1 = random.choice(networks)\n",
        "        parent2 = random.choice(networks)\n",
        "        child1 = Network()\n",
        "        child2 = Network()\n",
        "\n",
        "        # Crossing over parent hyper-params\n",
        "        child1._epochs = int(parent1._epochs/4) + int(parent2._epochs/2)\n",
        "        child2._epochs = int(parent1._epochs/2) + int(parent2._epochs/4)\n",
        "\n",
        "        child1._units1 = int(parent1._units1/4) + int(parent2._units1/2)\n",
        "        child2._units1 = int(parent1._units1/2) + int(parent2._units1/4)\n",
        "\n",
        "        child1._units2 = int(parent1._units2/4) + int(parent2._units2/2)\n",
        "        child2._units2 = int(parent1._units2/2) + int(parent2._units2/4)\n",
        "\n",
        "        child1._act1 = parent2._act2\n",
        "        child2._act1 = parent1._act2\n",
        "\n",
        "        child1._act2 = parent2._act1\n",
        "        child2._act2 = parent1._act1\n",
        "\n",
        "        child1._act3 = parent2._act2\n",
        "        child2._act3 = parent1._act2\n",
        "\n",
        "        offspring.append(child1)\n",
        "        offspring.append(child2)\n",
        "\n",
        "    networks.extend(offspring)\n",
        "\n",
        "    return networks\n",
        "\n",
        "def mutate(networks):\n",
        "    for network in networks:\n",
        "        if np.random.uniform(0, 1) <= 0.1:\n",
        "            network._epochs += np.random.randint(0,100)\n",
        "            network._units1 += np.random.randint(0,100)\n",
        "            network._units2 += np.random.randint(0,100)\n",
        "\n",
        "    return networks\n",
        "\n",
        "def main():\n",
        "    networks = init_networks(population)\n",
        "\n",
        "    for gen in range(generations):\n",
        "        print ('Generation {}'.format(gen+1))\n",
        "\n",
        "        networks = fitness(networks)\n",
        "        networks = selection(networks)\n",
        "        networks = crossover(networks)\n",
        "        networks = mutate(networks)\n",
        "\n",
        "        for network in networks:\n",
        "            if network._accuracy > threshold:\n",
        "                print ('Threshold met')\n",
        "                print (network.init_hyperparams())\n",
        "                print ('Best accuracy: {}'.format(network._accuracy))\n",
        "                exit(0)"
      ],
      "execution_count": 4,
      "outputs": []
    },
    {
      "cell_type": "code",
      "metadata": {
        "id": "SAH0t2U5jg6U",
        "colab_type": "code",
        "colab": {
          "base_uri": "https://localhost:8080/",
          "height": 67
        },
        "outputId": "e0a38e11-7c0c-40b3-a44d-98ce8faa6e22"
      },
      "source": [
        "if __name__ == '__main__':\n",
        "    main()"
      ],
      "execution_count": null,
      "outputs": [
        {
          "output_type": "stream",
          "text": [
            "Accuracy: 0.08699999749660492\n",
            "Accuracy: 0.11599999666213989\n",
            "Accuracy: 0.22699999809265137\n"
          ],
          "name": "stdout"
        }
      ]
    }
  ]
}